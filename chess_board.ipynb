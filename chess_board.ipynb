{
 "cells": [
  {
   "cell_type": "code",
   "execution_count": 17,
   "metadata": {},
   "outputs": [
    {
     "data": {
      "text/plain": [
       "array([[ 0,  1,  2,  3,  4,  5,  6,  7],\n",
       "       [ 8,  9, 10, 11, 12, 13, 14, 15],\n",
       "       [16, 17, 18, 19, 20, 21, 22, 23],\n",
       "       [24, 25, 26, 27, 28, 29, 30, 31],\n",
       "       [32, 33, 34, 35, 36, 37, 38, 39],\n",
       "       [40, 41, 42, 43, 44, 45, 46, 47],\n",
       "       [48, 49, 50, 51, 52, 53, 54, 55],\n",
       "       [56, 57, 58, 59, 60, 61, 62, 63]])"
      ]
     },
     "execution_count": 17,
     "metadata": {},
     "output_type": "execute_result"
    }
   ],
   "source": [
    "print('hello')"
   ]
  },
  {
   "cell_type": "code",
   "execution_count": 25,
   "metadata": {},
   "outputs": [
    {
     "data": {
      "text/plain": [
       "matrix([[1, 2, 3, 4],\n",
       "        [2, 4, 6, 8],\n",
       "        [1, 9, 3, 4]])"
      ]
     },
     "execution_count": 25,
     "metadata": {},
     "output_type": "execute_result"
    }
   ],
   "source": [
    "\n",
    "mtrx =  np.matrix([[1,2,3,4],[2,4,6,8],[1,9,3,4]])\n",
    "mtrx"
   ]
  },
  {
   "cell_type": "code",
   "execution_count": 36,
   "metadata": {},
   "outputs": [
    {
     "name": "stdout",
     "output_type": "stream",
     "text": [
      "[ 0  1  2  3  4  5  6  7  8  9 10 11 12 13 14 15]\n",
      "[15 14 13 12 11 10  9  8  7  6  5  4  3  2  1  0]\n"
     ]
    }
   ],
   "source": [
    "arr = np.arange(16)\n",
    "# arr\n",
    "def reverse_array(arr, copy=True):\n",
    "  \"\"\"\n",
    "  Return the reverse of arr, if copy is False will modify the original arr\n",
    "  \"\"\"\n",
    "  if copy:\n",
    "    arr2 = arr.copy()\n",
    "  arr_len=len(arr2)\n",
    "  for i in range(arr_len):\n",
    "      arr2[i] = arr[-i-1]\n",
    "  return arr2\n",
    "\n",
    "# print(arr)\n",
    "new_arr = reverse_array(arr)\n",
    "print(arr)\n",
    "print(new_arr)"
   ]
  },
  {
   "cell_type": "code",
   "execution_count": 125,
   "metadata": {},
   "outputs": [
    {
     "name": "stdout",
     "output_type": "stream",
     "text": [
      "True\n",
      "0.0\n",
      "1.0\n"
     ]
    },
    {
     "data": {
      "image/png": "[encoded data removed]",
      "text/plain": [
       "<Figure size 432x288 with 1 Axes>"
      ]
     },
     "metadata": {
      "needs_background": "light"
     },
     "output_type": "display_data"
    }
   ],
   "source": [
    "import numpy as np\n",
    "import matplotlib.pyplot as plt\n",
    "\n",
    "class ChessBoard():\n",
    "    \"\"\"\n",
    "    Class to Display a chess board and illustrates the positions of the two queens and thire positions\n",
    "\n",
    "    arguments:\n",
    "    grid: define matrix with 8 rows and each row will contain 8 coloums , and in every cell in the row we will have 3 elements\n",
    "    red_position:define the position (rows and coloums) for the red square\n",
    "    blue_position: deines the position (rows and coloums) for the blue square\n",
    "\n",
    "    \"\"\"\n",
    "    def __init__(self):\n",
    "        self.grid=np.ones((8,8,3))\n",
    "        self.red_position=[]\n",
    "        self.blue_position=[]\n",
    "        for row in range(8):\n",
    "            for col in range(8):\n",
    "                if (col % 2==0 and row % 2==0 )or (col % 2 != 0 and row % 2 != 0 ):\n",
    "                    self.grid[row][col] = [0,0,0]\n",
    "    def render(self):\n",
    "        \"\"\"\n",
    "        its responsible of drawing the chess board for us\n",
    "\n",
    "        input:none\n",
    "        output:Chess Board Draw\n",
    "        \"\"\"\n",
    "        plt.imshow(self.grid)\n",
    "    def add_red(self,row,col):\n",
    "        \"\"\"\n",
    "        its responsible of drawing a red square at a specific position\n",
    "\n",
    "        input:two numbers represents position (row,col)\n",
    "        output:red square at the specific position in the input\n",
    "        \"\"\"\n",
    "        self.grid[row][col]= [1,0,0]\n",
    "        self.red_position=[row,col]\n",
    "        self.render()\n",
    "    def add_blue(self,row,col):\n",
    "        \"\"\"\n",
    "        its responsible of drawing a Blue square at a specific position\n",
    "\n",
    "        input:two numbers represents position (row,col)\n",
    "        output:Blue square at the specific position in the input\n",
    "        \"\"\"\n",
    "        self.grid[row][col]= [0,0,1]\n",
    "        self.blue_position=[row,col]\n",
    "        self.render()\n",
    "    def is_under_attack(self):\n",
    "        \"\"\"\n",
    "        its responsible of determining the situation of the red square if its under attack of blue peice or not\n",
    "\n",
    "        input:None\n",
    "        output:Boolean\n",
    "        \n",
    "        \"\"\"\n",
    "        try:\n",
    "            slope=abs((self.blue_position[1]-self.red_position[1])/(self.blue_position[0]-self.red_position[0]))\n",
    "            print(slope)\n",
    "            if (self.red_position[0]==self.blue_position[0] or self.red_position[1]==self.blue_position[1] or slope==1):\n",
    "                return True\n",
    "            return False\n",
    "        except ZeroDivisionError:\n",
    "            print('True')\n",
    "            return True\n",
    "\n",
    "\n",
    "\n",
    "myobject=ChessBoard()\n",
    "myobject.add_red(5,1)\n",
    "myobject.add_blue(5,3)\n",
    "# queens on same row should be “under attack”\n",
    "Expected=True\n",
    "assert myobject.is_under_attack()==Expected\n",
    "# queens on same column should be “under attack”\n",
    "myobject1=ChessBoard()\n",
    "myobject1.add_red(5,6)\n",
    "myobject1.add_blue(7,6)\n",
    "assert myobject1.is_under_attack()==Expected\n",
    "\n",
    "# queens on same diagonal should be “under attack”\n",
    "myobject2=ChessBoard()\n",
    "myobject2.add_red(3,7)\n",
    "myobject2.add_blue(1,5)\n",
    "assert myobject2.is_under_attack()==Expected\n",
    "# print(myobject)"
   ]
  },
  {
   "cell_type": "code",
   "execution_count": 129,
   "metadata": {},
   "outputs": [
    {
     "data": {
      "text/plain": [
       "array([[[1., 1., 1.],\n",
       "        [1., 1., 1.],\n",
       "        [1., 1., 1.],\n",
       "        [1., 1., 1.],\n",
       "        [1., 1., 1.],\n",
       "        [1., 1., 1.],\n",
       "        [1., 1., 1.],\n",
       "        [1., 1., 1.]],\n",
       "\n",
       "       [[1., 1., 1.],\n",
       "        [1., 1., 1.],\n",
       "        [1., 1., 1.],\n",
       "        [1., 1., 1.],\n",
       "        [1., 1., 1.],\n",
       "        [1., 1., 1.],\n",
       "        [1., 1., 1.],\n",
       "        [1., 1., 1.]],\n",
       "\n",
       "       [[1., 1., 1.],\n",
       "        [1., 1., 1.],\n",
       "        [1., 1., 1.],\n",
       "        [1., 1., 1.],\n",
       "        [1., 1., 1.],\n",
       "        [1., 1., 1.],\n",
       "        [1., 1., 1.],\n",
       "        [1., 1., 1.]],\n",
       "\n",
       "       [[1., 1., 1.],\n",
       "        [1., 1., 1.],\n",
       "        [1., 1., 1.],\n",
       "        [1., 1., 1.],\n",
       "        [1., 1., 1.],\n",
       "        [1., 1., 1.],\n",
       "        [1., 1., 1.],\n",
       "        [1., 1., 1.]],\n",
       "\n",
       "       [[1., 1., 1.],\n",
       "        [1., 1., 1.],\n",
       "        [1., 1., 1.],\n",
       "        [1., 1., 1.],\n",
       "        [1., 1., 1.],\n",
       "        [1., 1., 1.],\n",
       "        [1., 1., 1.],\n",
       "        [1., 1., 1.]],\n",
       "\n",
       "       [[1., 1., 1.],\n",
       "        [1., 1., 1.],\n",
       "        [1., 1., 1.],\n",
       "        [1., 1., 1.],\n",
       "        [1., 1., 1.],\n",
       "        [1., 1., 1.],\n",
       "        [1., 1., 1.],\n",
       "        [1., 1., 1.]],\n",
       "\n",
       "       [[1., 1., 1.],\n",
       "        [1., 1., 1.],\n",
       "        [1., 1., 1.],\n",
       "        [1., 1., 1.],\n",
       "        [1., 1., 1.],\n",
       "        [1., 1., 1.],\n",
       "        [1., 1., 1.],\n",
       "        [1., 1., 1.]],\n",
       "\n",
       "       [[1., 1., 1.],\n",
       "        [1., 1., 1.],\n",
       "        [1., 1., 1.],\n",
       "        [1., 1., 1.],\n",
       "        [1., 1., 1.],\n",
       "        [1., 1., 1.],\n",
       "        [1., 1., 1.],\n",
       "        [1., 1., 1.]]])"
      ]
     },
     "execution_count": 129,
     "metadata": {},
     "output_type": "execute_result"
    }
   ],
   "source": [
    "# np.vander([1, 2, 3, 4], 5)\n",
    "# np.ones((8,8,3))\n",
    "\n",
    "# grid = np.zeros((8,8,3))\n",
    "# np.zeros([2,3,4])\n",
    "# print(test)\n",
    "# print(grid)"
   ]
  }
 ],
 "metadata": {
  "interpreter": {
   "hash": "c9f702b48e76e605d1b372d2dc69ba0baebeb73102b2c8fdb0506cf4e9004b51"
  },
  "kernelspec": {
   "display_name": "Python 3.9.5 64-bit ('.venv': poetry)",
   "name": "python3"
  },
  "language_info": {
   "codemirror_mode": {
    "name": "ipython",
    "version": 3
   },
   "file_extension": ".py",
   "mimetype": "text/x-python",
   "name": "python",
   "nbconvert_exporter": "python",
   "pygments_lexer": "ipython3",
   "version": "3.9.5"
  }
 },
 "nbformat": 4,
 "nbformat_minor": 4
}
